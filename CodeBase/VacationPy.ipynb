{
 "cells": [
  {
   "cell_type": "markdown",
   "metadata": {},
   "source": [
    "# VacationPy\n"
   ]
  },
  {
   "cell_type": "code",
   "execution_count": 144,
   "metadata": {},
   "outputs": [],
   "source": [
    "# Dependencies and Setup\n",
    "import matplotlib.pyplot as plt\n",
    "import pandas as pd\n",
    "import numpy as np\n",
    "import requests\n",
    "import gmaps\n",
    "import os\n",
    "\n",
    "# Import API key\n",
    "from api_keys import g_key\n",
    "\n",
    "#To display all outputs in a call\n",
    "from IPython.core.interactiveshell import InteractiveShell\n",
    "InteractiveShell.ast_node_interactivity = 'all'"
   ]
  },
  {
   "cell_type": "markdown",
   "metadata": {},
   "source": [
    "### Store Part I results into DataFrame\n",
    "* Load the csv exported in Part I to a DataFrame"
   ]
  },
  {
   "cell_type": "code",
   "execution_count": 145,
   "metadata": {},
   "outputs": [],
   "source": [
    "DF = pd.read_csv('../Output/cleaned_cities_weather.csv', encoding='utf-8')\n"
   ]
  },
  {
   "cell_type": "code",
   "execution_count": 146,
   "metadata": {},
   "outputs": [
    {
     "name": "stdout",
     "output_type": "stream",
     "text": [
      "<class 'pandas.core.frame.DataFrame'>\n",
      "RangeIndex: 584 entries, 0 to 583\n",
      "Data columns (total 8 columns):\n",
      " #   Column      Non-Null Count  Dtype  \n",
      "---  ------      --------------  -----  \n",
      " 0   City        584 non-null    object \n",
      " 1   Country     579 non-null    object \n",
      " 2   Lat         584 non-null    float64\n",
      " 3   Lng         584 non-null    float64\n",
      " 4   Max Temp    584 non-null    float64\n",
      " 5   Humidity    584 non-null    float64\n",
      " 6   Cloudiness  584 non-null    float64\n",
      " 7   Wind Speed  584 non-null    float64\n",
      "dtypes: float64(6), object(2)\n",
      "memory usage: 36.6+ KB\n"
     ]
    }
   ],
   "source": [
    "DF.info()"
   ]
  },
  {
   "cell_type": "markdown",
   "metadata": {},
   "source": [
    "### Humidity Heatmap\n",
    "* Configure gmaps.\n",
    "* Use the Lat and Lng as locations and Humidity as the weight.\n",
    "* Add Heatmap layer to map."
   ]
  },
  {
   "cell_type": "code",
   "execution_count": 147,
   "metadata": {},
   "outputs": [],
   "source": [
    "gmaps.configure(api_key=g_key)\n",
    "layout = {\n",
    "    'width': '1000px',\n",
    "    'height': '1000px',\n",
    "    'border': '1px solid black',\n",
    "    'padding': '0px',\n",
    "    'margin': '0'\n",
    "}\n",
    "Map = gmaps.figure(center=(0, 0), zoom_level=2, layout=layout)\n",
    "heatmap_layer = gmaps.WeightedHeatmap(locations = DF[['Lat', 'Lng']], weights=DF['Humidity'], max_intensity=DF['Humidity'].max())\n",
    "Map.add_layer(heatmap_layer)"
   ]
  },
  {
   "cell_type": "code",
   "execution_count": 148,
   "metadata": {},
   "outputs": [],
   "source": [
    "from ipywidgets.embed import embed_minimal_html\n",
    "embed_minimal_html('heatmap.html', views=[Map], title='heatmap')"
   ]
  },
  {
   "cell_type": "code",
   "execution_count": 149,
   "metadata": {},
   "outputs": [
    {
     "data": {
      "application/vnd.jupyter.widget-view+json": {
       "model_id": "122d1410a6d1475abf132b381ed1bb8d",
       "version_major": 2,
       "version_minor": 0
      },
      "text/plain": [
       "Figure(layout=FigureLayout(border='1px solid black', height='1000px', margin='0', padding='0px', width='1000px…"
      ]
     },
     "metadata": {},
     "output_type": "display_data"
    }
   ],
   "source": [
    "Map"
   ]
  },
  {
   "cell_type": "markdown",
   "metadata": {},
   "source": [
    "### Create new DataFrame fitting weather criteria\n",
    "* Narrow down the cities to fit weather conditions.\n",
    "* Drop any rows will null values.\n",
    "\n",
    "**Ideal Weather Conditions**\n",
    "\n",
    "* A max temperature lower than 80 Fahrenheit but higher than 72 Fahrenheit.\n",
    "\n",
    "* Wind speed less than 10 mph.\n",
    "\n",
    "* Zero cloudiness.\n",
    "\n",
    "Drop any rows that don't contain all three conditions. You want to be sure the weather is ideal."
   ]
  },
  {
   "cell_type": "code",
   "execution_count": 151,
   "metadata": {},
   "outputs": [
    {
     "name": "stdout",
     "output_type": "stream",
     "text": [
      "<class 'pandas.core.frame.DataFrame'>\n",
      "Int64Index: 9 entries, 37 to 536\n",
      "Data columns (total 8 columns):\n",
      " #   Column      Non-Null Count  Dtype  \n",
      "---  ------      --------------  -----  \n",
      " 0   City        9 non-null      object \n",
      " 1   Country     9 non-null      object \n",
      " 2   Lat         9 non-null      float64\n",
      " 3   Lng         9 non-null      float64\n",
      " 4   Max Temp    9 non-null      float64\n",
      " 5   Humidity    9 non-null      float64\n",
      " 6   Cloudiness  9 non-null      float64\n",
      " 7   Wind Speed  9 non-null      float64\n",
      "dtypes: float64(6), object(2)\n",
      "memory usage: 648.0+ bytes\n"
     ]
    }
   ],
   "source": [
    "DF_IDEAL = DF.drop(DF[~((DF['Max Temp']<80.0) & (DF['Max Temp']>72.0) & (DF['Wind Speed']<10.0) & (DF['Cloudiness']==0))].index)\n",
    "\n",
    "DF_IDEAL.info()"
   ]
  },
  {
   "cell_type": "markdown",
   "metadata": {},
   "source": [
    "### Hotel Map\n",
    "* Store into variable named `hotel_df`.\n",
    "* Add a \"Hotel Name\" column to the DataFrame.\n",
    "* Set parameters to search for hotels with 5000 meters.\n",
    "* Hit the Google Places API for each city's coordinates.\n",
    "* Store the first Hotel result into the DataFrame.\n",
    "* Plot markers on top of the heatmap."
   ]
  },
  {
   "cell_type": "code",
   "execution_count": 152,
   "metadata": {},
   "outputs": [],
   "source": [
    "hotel_df = DF_IDEAL.iloc[:,:4].copy()\n",
    "hotel_df['Hotel Name'] = \"\"\n",
    "\n",
    "base_url = 'https://maps.googleapis.com/maps/api/place/textsearch/json'\n",
    "\n",
    "for index, row in hotel_df.iterrows():\n",
    "    \n",
    "    \n",
    "    params = {\n",
    "            \"location\": f\"{row['Lat']},{row['Lng']}\",\n",
    "            \"query\": 'hotel',\n",
    "            \"radius\": 5000,\n",
    "            \"key\": g_key\n",
    "            }\n",
    "    \n",
    "    try:\n",
    "        result = requests.get(base_url, params).json()\n",
    "        hotel_df.loc[index, \"Hotel Name\"] = result['results'][0]['name']\n",
    "        \n",
    "    except:\n",
    "        print(f\"Couldn't retrive hotel for {row['City']} at index {index}..Skipping\")"
   ]
  },
  {
   "cell_type": "code",
   "execution_count": 153,
   "metadata": {},
   "outputs": [
    {
     "data": {
      "text/html": [
       "<div>\n",
       "<style scoped>\n",
       "    .dataframe tbody tr th:only-of-type {\n",
       "        vertical-align: middle;\n",
       "    }\n",
       "\n",
       "    .dataframe tbody tr th {\n",
       "        vertical-align: top;\n",
       "    }\n",
       "\n",
       "    .dataframe thead th {\n",
       "        text-align: right;\n",
       "    }\n",
       "</style>\n",
       "<table border=\"1\" class=\"dataframe\">\n",
       "  <thead>\n",
       "    <tr style=\"text-align: right;\">\n",
       "      <th></th>\n",
       "      <th>City</th>\n",
       "      <th>Country</th>\n",
       "      <th>Lat</th>\n",
       "      <th>Lng</th>\n",
       "      <th>Hotel Name</th>\n",
       "    </tr>\n",
       "  </thead>\n",
       "  <tbody>\n",
       "    <tr>\n",
       "      <th>37</th>\n",
       "      <td>São Domingos do Maranhão</td>\n",
       "      <td>BR</td>\n",
       "      <td>-5.58</td>\n",
       "      <td>-44.39</td>\n",
       "      <td>Pousada Pontes</td>\n",
       "    </tr>\n",
       "    <tr>\n",
       "      <th>51</th>\n",
       "      <td>São Filipe</td>\n",
       "      <td>CV</td>\n",
       "      <td>14.90</td>\n",
       "      <td>-24.50</td>\n",
       "      <td>Hotel Miramar Fogo Brava</td>\n",
       "    </tr>\n",
       "    <tr>\n",
       "      <th>60</th>\n",
       "      <td>Kurumkan</td>\n",
       "      <td>RU</td>\n",
       "      <td>54.30</td>\n",
       "      <td>110.30</td>\n",
       "      <td>Gostevoy Dom Vista</td>\n",
       "    </tr>\n",
       "    <tr>\n",
       "      <th>113</th>\n",
       "      <td>Cherskiy</td>\n",
       "      <td>RU</td>\n",
       "      <td>68.75</td>\n",
       "      <td>161.30</td>\n",
       "      <td>Days Inn by Wyndham Toronto East Lakeview</td>\n",
       "    </tr>\n",
       "    <tr>\n",
       "      <th>144</th>\n",
       "      <td>Elesbão Veloso</td>\n",
       "      <td>BR</td>\n",
       "      <td>-6.20</td>\n",
       "      <td>-42.14</td>\n",
       "      <td>Pousada Rodeio</td>\n",
       "    </tr>\n",
       "    <tr>\n",
       "      <th>241</th>\n",
       "      <td>Verkh-Usugli</td>\n",
       "      <td>RU</td>\n",
       "      <td>52.70</td>\n",
       "      <td>115.17</td>\n",
       "      <td>Gostinitsa \"Aleksandriya\"</td>\n",
       "    </tr>\n",
       "    <tr>\n",
       "      <th>242</th>\n",
       "      <td>San Lorenzo</td>\n",
       "      <td>PY</td>\n",
       "      <td>-25.33</td>\n",
       "      <td>-57.53</td>\n",
       "      <td>Sheraton Asuncion Hotel</td>\n",
       "    </tr>\n",
       "    <tr>\n",
       "      <th>268</th>\n",
       "      <td>Itacoatiara</td>\n",
       "      <td>BR</td>\n",
       "      <td>-3.14</td>\n",
       "      <td>-58.44</td>\n",
       "      <td>Serpa Hotel</td>\n",
       "    </tr>\n",
       "    <tr>\n",
       "      <th>536</th>\n",
       "      <td>Zhob</td>\n",
       "      <td>PK</td>\n",
       "      <td>31.34</td>\n",
       "      <td>69.45</td>\n",
       "      <td>Rohail hotel Zhob</td>\n",
       "    </tr>\n",
       "  </tbody>\n",
       "</table>\n",
       "</div>"
      ],
      "text/plain": [
       "                         City Country    Lat     Lng  \\\n",
       "37   São Domingos do Maranhão      BR  -5.58  -44.39   \n",
       "51                 São Filipe      CV  14.90  -24.50   \n",
       "60                   Kurumkan      RU  54.30  110.30   \n",
       "113                  Cherskiy      RU  68.75  161.30   \n",
       "144            Elesbão Veloso      BR  -6.20  -42.14   \n",
       "241              Verkh-Usugli      RU  52.70  115.17   \n",
       "242               San Lorenzo      PY -25.33  -57.53   \n",
       "268               Itacoatiara      BR  -3.14  -58.44   \n",
       "536                      Zhob      PK  31.34   69.45   \n",
       "\n",
       "                                    Hotel Name  \n",
       "37                              Pousada Pontes  \n",
       "51                    Hotel Miramar Fogo Brava  \n",
       "60                          Gostevoy Dom Vista  \n",
       "113  Days Inn by Wyndham Toronto East Lakeview  \n",
       "144                             Pousada Rodeio  \n",
       "241                  Gostinitsa \"Aleksandriya\"  \n",
       "242                    Sheraton Asuncion Hotel  \n",
       "268                                Serpa Hotel  \n",
       "536                          Rohail hotel Zhob  "
      ]
     },
     "execution_count": 153,
     "metadata": {},
     "output_type": "execute_result"
    }
   ],
   "source": [
    "hotel_df"
   ]
  },
  {
   "cell_type": "code",
   "execution_count": 154,
   "metadata": {},
   "outputs": [],
   "source": [
    "# NOTE: Do not change any of the code in this cell\n",
    "\n",
    "# Using the template add the hotel marks to the heatmap\n",
    "info_box_template = \"\"\"\n",
    "<dl>\n",
    "<dt>Name</dt><dd>{Hotel Name}</dd>\n",
    "<dt>City</dt><dd>{City}</dd>\n",
    "<dt>Country</dt><dd>{Country}</dd>\n",
    "</dl>\n",
    "\"\"\"\n",
    "# Store the DataFrame Row\n",
    "# NOTE: be sure to update with your DataFrame name\n",
    "hotel_info = [info_box_template.format(**row) for index, row in hotel_df.iterrows()]\n",
    "locations = hotel_df[[\"Lat\", \"Lng\"]]"
   ]
  },
  {
   "cell_type": "code",
   "execution_count": 155,
   "metadata": {
    "scrolled": true
   },
   "outputs": [
    {
     "data": {
      "application/vnd.jupyter.widget-view+json": {
       "model_id": "122d1410a6d1475abf132b381ed1bb8d",
       "version_major": 2,
       "version_minor": 0
      },
      "text/plain": [
       "Figure(layout=FigureLayout(border='1px solid black', height='1000px', margin='0', padding='0px', width='1000px…"
      ]
     },
     "metadata": {},
     "output_type": "display_data"
    }
   ],
   "source": [
    "# Add marker layer ontop of heat map\n",
    "marker_layer = gmaps.marker_layer(locations, hover_text='', label='', info_box_content=hotel_info, display_info_box=True)\n",
    "Map.add_layer(marker_layer)\n",
    "\n",
    "#Save as html\n",
    "from ipywidgets.embed import embed_minimal_html\n",
    "embed_minimal_html('hotelmap.html', views=[Map], title='hotelmap')\n",
    "# Display figure\n",
    "Map"
   ]
  },
  {
   "cell_type": "code",
   "execution_count": null,
   "metadata": {},
   "outputs": [],
   "source": []
  }
 ],
 "metadata": {
  "kernelspec": {
   "display_name": "Python 3",
   "language": "python",
   "name": "python3"
  },
  "language_info": {
   "codemirror_mode": {
    "name": "ipython",
    "version": 3
   },
   "file_extension": ".py",
   "mimetype": "text/x-python",
   "name": "python",
   "nbconvert_exporter": "python",
   "pygments_lexer": "ipython3",
   "version": "3.8.1"
  },
  "latex_envs": {
   "LaTeX_envs_menu_present": true,
   "autoclose": false,
   "autocomplete": true,
   "bibliofile": "biblio.bib",
   "cite_by": "apalike",
   "current_citInitial": 1,
   "eqLabelWithNumbers": true,
   "eqNumInitial": 1,
   "hotkeys": {
    "equation": "Ctrl-E",
    "itemize": "Ctrl-I"
   },
   "labels_anchors": false,
   "latex_user_defs": false,
   "report_style_numbering": false,
   "user_envs_cfg": false
  }
 },
 "nbformat": 4,
 "nbformat_minor": 2
}
