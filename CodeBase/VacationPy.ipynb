{
 "cells": [
  {
   "cell_type": "markdown",
   "metadata": {},
   "source": [
    "# VacationPy\n"
   ]
  },
  {
   "cell_type": "code",
   "execution_count": 63,
   "metadata": {},
   "outputs": [],
   "source": [
    "# Dependencies and Setup\n",
    "import matplotlib.pyplot as plt\n",
    "import pandas as pd\n",
    "import numpy as np\n",
    "import requests\n",
    "import gmaps\n",
    "import os\n",
    "\n",
    "# Import API key\n",
    "from api_keys import g_key\n",
    "\n",
    "#To display all outputs in a call\n",
    "from IPython.core.interactiveshell import InteractiveShell\n",
    "InteractiveShell.ast_node_interactivity = 'all'"
   ]
  },
  {
   "cell_type": "markdown",
   "metadata": {},
   "source": [
    "### Store Part I results into DataFrame\n",
    "* Load the csv exported in Part I to a DataFrame"
   ]
  },
  {
   "cell_type": "code",
   "execution_count": 2,
   "metadata": {},
   "outputs": [],
   "source": [
    "DF = pd.read_csv('../Output/cleaned_cities_weather.csv', encoding='utf-8')\n"
   ]
  },
  {
   "cell_type": "code",
   "execution_count": 4,
   "metadata": {},
   "outputs": [
    {
     "name": "stdout",
     "output_type": "stream",
     "text": [
      "<class 'pandas.core.frame.DataFrame'>\n",
      "RangeIndex: 584 entries, 0 to 583\n",
      "Data columns (total 8 columns):\n",
      " #   Column      Non-Null Count  Dtype  \n",
      "---  ------      --------------  -----  \n",
      " 0   City        584 non-null    object \n",
      " 1   Country     579 non-null    object \n",
      " 2   Lat         584 non-null    float64\n",
      " 3   Lng         584 non-null    float64\n",
      " 4   Max Temp    584 non-null    float64\n",
      " 5   Humidity    584 non-null    float64\n",
      " 6   Cloudiness  584 non-null    float64\n",
      " 7   Wind Speed  584 non-null    float64\n",
      "dtypes: float64(6), object(2)\n",
      "memory usage: 36.6+ KB\n"
     ]
    }
   ],
   "source": [
    "DF.info()"
   ]
  },
  {
   "cell_type": "markdown",
   "metadata": {},
   "source": [
    "### Humidity Heatmap\n",
    "* Configure gmaps.\n",
    "* Use the Lat and Lng as locations and Humidity as the weight.\n",
    "* Add Heatmap layer to map."
   ]
  },
  {
   "cell_type": "code",
   "execution_count": 51,
   "metadata": {},
   "outputs": [],
   "source": [
    "gmaps.configure(api_key=g_key)\n",
    "layout = {\n",
    "    'width': '1000px',\n",
    "    'height': '1000px',\n",
    "    'border': '1px solid black',\n",
    "    'padding': '0px',\n",
    "    'margin': '0'\n",
    "}\n",
    "Map = gmaps.figure(center=(0, 0), zoom_level=2, layout=layout)\n",
    "heatmap_layer = gmaps.WeightedHeatmap(locations = DF[['Lat', 'Lng']], weights=DF['Humidity'], max_intensity=DF['Humidity'].max())\n",
    "Map.add_layer(heatmap_layer)"
   ]
  },
  {
   "cell_type": "code",
   "execution_count": 52,
   "metadata": {},
   "outputs": [],
   "source": [
    "from ipywidgets.embed import embed_minimal_html\n",
    "embed_minimal_html('heatmap.html', views=[Map], title='heatmap')"
   ]
  },
  {
   "cell_type": "code",
   "execution_count": 53,
   "metadata": {},
   "outputs": [
    {
     "data": {
      "application/vnd.jupyter.widget-view+json": {
       "model_id": "99d7b7c9457448ff86eac8095041158a",
       "version_major": 2,
       "version_minor": 0
      },
      "text/plain": [
       "Figure(layout=FigureLayout(border='1px solid black', height='1000px', margin='0', padding='0px', width='1000px…"
      ]
     },
     "metadata": {},
     "output_type": "display_data"
    }
   ],
   "source": [
    "Map"
   ]
  },
  {
   "cell_type": "markdown",
   "metadata": {},
   "source": [
    "### Create new DataFrame fitting weather criteria\n",
    "* Narrow down the cities to fit weather conditions.\n",
    "* Drop any rows will null values.\n",
    "\n",
    "**Ideal Weather Conditions**\n",
    "\n",
    "* A max temperature lower than 80 Fahrenheit but higher than 70 Fahrenheit.\n",
    "\n",
    "* Wind speed less than 10 mph.\n",
    "\n",
    "* Zero cloudiness.\n",
    "\n",
    "Drop any rows that don't contain all three conditions. You want to be sure the weather is ideal."
   ]
  },
  {
   "cell_type": "code",
   "execution_count": 93,
   "metadata": {},
   "outputs": [
    {
     "name": "stdout",
     "output_type": "stream",
     "text": [
      "<class 'pandas.core.frame.DataFrame'>\n",
      "Int64Index: 14 entries, 25 to 536\n",
      "Data columns (total 8 columns):\n",
      " #   Column      Non-Null Count  Dtype  \n",
      "---  ------      --------------  -----  \n",
      " 0   City        14 non-null     object \n",
      " 1   Country     14 non-null     object \n",
      " 2   Lat         14 non-null     float64\n",
      " 3   Lng         14 non-null     float64\n",
      " 4   Max Temp    14 non-null     float64\n",
      " 5   Humidity    14 non-null     float64\n",
      " 6   Cloudiness  14 non-null     float64\n",
      " 7   Wind Speed  14 non-null     float64\n",
      "dtypes: float64(6), object(2)\n",
      "memory usage: 1008.0+ bytes\n"
     ]
    }
   ],
   "source": [
    "DF_IDEAL = DF.drop(DF[~((DF['Max Temp']<80.0) & (DF['Max Temp']>70.0) & (DF['Wind Speed']<10.0) & (DF['Cloudiness']==0))].index)\n",
    "\n",
    "DF_IDEAL.info()"
   ]
  },
  {
   "cell_type": "markdown",
   "metadata": {},
   "source": [
    "### Hotel Map\n",
    "* Store into variable named `hotel_df`.\n",
    "* Add a \"Hotel Name\" column to the DataFrame.\n",
    "* Set parameters to search for hotels with 5000 meters.\n",
    "* Hit the Google Places API for each city's coordinates.\n",
    "* Store the first Hotel result into the DataFrame.\n",
    "* Plot markers on top of the heatmap."
   ]
  },
  {
   "cell_type": "code",
   "execution_count": 127,
   "metadata": {},
   "outputs": [],
   "source": [
    "hotel_df = DF_IDEAL.iloc[:,:4].copy()\n",
    "hotel_df['Hotel Name'] = \"\"\n",
    "\n",
    "base_url = 'https://maps.googleapis.com/maps/api/place/textsearch/json'\n",
    "\n",
    "for index, row in hotel_df.iterrows():\n",
    "    \n",
    "    \n",
    "    params = {\n",
    "            \"location\": f\"{row['Lat']},{row['Lng']}\",\n",
    "            \"query\": 'hotel',\n",
    "            \"radius\": 5000,\n",
    "            \"key\": g_key\n",
    "            }\n",
    "    \n",
    "    try:\n",
    "        result = requests.get(base_url, params).json()\n",
    "        hotel_df.loc[index, \"Hotel Name\"] = result['results'][0]['name']\n",
    "        \n",
    "    except:\n",
    "        print(f\"Couldn't retrive hotel for {row['City']} at index {index}..Skipping\")"
   ]
  },
  {
   "cell_type": "code",
   "execution_count": 128,
   "metadata": {},
   "outputs": [
    {
     "data": {
      "text/html": [
       "<div>\n",
       "<style scoped>\n",
       "    .dataframe tbody tr th:only-of-type {\n",
       "        vertical-align: middle;\n",
       "    }\n",
       "\n",
       "    .dataframe tbody tr th {\n",
       "        vertical-align: top;\n",
       "    }\n",
       "\n",
       "    .dataframe thead th {\n",
       "        text-align: right;\n",
       "    }\n",
       "</style>\n",
       "<table border=\"1\" class=\"dataframe\">\n",
       "  <thead>\n",
       "    <tr style=\"text-align: right;\">\n",
       "      <th></th>\n",
       "      <th>City</th>\n",
       "      <th>Country</th>\n",
       "      <th>Lat</th>\n",
       "      <th>Lng</th>\n",
       "      <th>Hotel Name</th>\n",
       "    </tr>\n",
       "  </thead>\n",
       "  <tbody>\n",
       "    <tr>\n",
       "      <th>25</th>\n",
       "      <td>Maţāy</td>\n",
       "      <td>EG</td>\n",
       "      <td>28.42</td>\n",
       "      <td>30.78</td>\n",
       "      <td>ABO GHANIMA HOME</td>\n",
       "    </tr>\n",
       "    <tr>\n",
       "      <th>37</th>\n",
       "      <td>São Domingos do Maranhão</td>\n",
       "      <td>BR</td>\n",
       "      <td>-5.58</td>\n",
       "      <td>-44.39</td>\n",
       "      <td>Pousada Pontes</td>\n",
       "    </tr>\n",
       "    <tr>\n",
       "      <th>51</th>\n",
       "      <td>São Filipe</td>\n",
       "      <td>CV</td>\n",
       "      <td>14.90</td>\n",
       "      <td>-24.50</td>\n",
       "      <td>Hotel Xaguate</td>\n",
       "    </tr>\n",
       "    <tr>\n",
       "      <th>60</th>\n",
       "      <td>Kurumkan</td>\n",
       "      <td>RU</td>\n",
       "      <td>54.30</td>\n",
       "      <td>110.30</td>\n",
       "      <td>Gostevoy Dom Vista</td>\n",
       "    </tr>\n",
       "    <tr>\n",
       "      <th>70</th>\n",
       "      <td>Tiznit Province</td>\n",
       "      <td>MA</td>\n",
       "      <td>29.58</td>\n",
       "      <td>-9.50</td>\n",
       "      <td>Hotel kerdous</td>\n",
       "    </tr>\n",
       "    <tr>\n",
       "      <th>113</th>\n",
       "      <td>Cherskiy</td>\n",
       "      <td>RU</td>\n",
       "      <td>68.75</td>\n",
       "      <td>161.30</td>\n",
       "      <td>Super 8 by Wyndham Austin/Airport North</td>\n",
       "    </tr>\n",
       "    <tr>\n",
       "      <th>144</th>\n",
       "      <td>Elesbão Veloso</td>\n",
       "      <td>BR</td>\n",
       "      <td>-6.20</td>\n",
       "      <td>-42.14</td>\n",
       "      <td>Pousada Rodeio</td>\n",
       "    </tr>\n",
       "    <tr>\n",
       "      <th>149</th>\n",
       "      <td>Amga</td>\n",
       "      <td>RU</td>\n",
       "      <td>60.90</td>\n",
       "      <td>131.96</td>\n",
       "      <td>Algys</td>\n",
       "    </tr>\n",
       "    <tr>\n",
       "      <th>201</th>\n",
       "      <td>Diamantino</td>\n",
       "      <td>BR</td>\n",
       "      <td>-14.41</td>\n",
       "      <td>-56.45</td>\n",
       "      <td>KAYABI PALACE HOTEL E RESTAURANTE</td>\n",
       "    </tr>\n",
       "    <tr>\n",
       "      <th>241</th>\n",
       "      <td>Verkh-Usugli</td>\n",
       "      <td>RU</td>\n",
       "      <td>52.70</td>\n",
       "      <td>115.17</td>\n",
       "      <td>Gostinitsa \"Aleksandriya\"</td>\n",
       "    </tr>\n",
       "    <tr>\n",
       "      <th>242</th>\n",
       "      <td>San Lorenzo</td>\n",
       "      <td>PY</td>\n",
       "      <td>-25.33</td>\n",
       "      <td>-57.53</td>\n",
       "      <td>Sheraton Asuncion Hotel</td>\n",
       "    </tr>\n",
       "    <tr>\n",
       "      <th>268</th>\n",
       "      <td>Itacoatiara</td>\n",
       "      <td>BR</td>\n",
       "      <td>-3.14</td>\n",
       "      <td>-58.44</td>\n",
       "      <td>Serpa Hotel</td>\n",
       "    </tr>\n",
       "    <tr>\n",
       "      <th>417</th>\n",
       "      <td>Yangi Marg`ilon</td>\n",
       "      <td>UZ</td>\n",
       "      <td>40.43</td>\n",
       "      <td>71.72</td>\n",
       "      <td>Voyage Hotel</td>\n",
       "    </tr>\n",
       "    <tr>\n",
       "      <th>536</th>\n",
       "      <td>Zhob</td>\n",
       "      <td>PK</td>\n",
       "      <td>31.34</td>\n",
       "      <td>69.45</td>\n",
       "      <td>Rohail hotel Zhob</td>\n",
       "    </tr>\n",
       "  </tbody>\n",
       "</table>\n",
       "</div>"
      ],
      "text/plain": [
       "                         City Country    Lat     Lng  \\\n",
       "25                      Maţāy      EG  28.42   30.78   \n",
       "37   São Domingos do Maranhão      BR  -5.58  -44.39   \n",
       "51                 São Filipe      CV  14.90  -24.50   \n",
       "60                   Kurumkan      RU  54.30  110.30   \n",
       "70            Tiznit Province      MA  29.58   -9.50   \n",
       "113                  Cherskiy      RU  68.75  161.30   \n",
       "144            Elesbão Veloso      BR  -6.20  -42.14   \n",
       "149                      Amga      RU  60.90  131.96   \n",
       "201                Diamantino      BR -14.41  -56.45   \n",
       "241              Verkh-Usugli      RU  52.70  115.17   \n",
       "242               San Lorenzo      PY -25.33  -57.53   \n",
       "268               Itacoatiara      BR  -3.14  -58.44   \n",
       "417           Yangi Marg`ilon      UZ  40.43   71.72   \n",
       "536                      Zhob      PK  31.34   69.45   \n",
       "\n",
       "                                  Hotel Name  \n",
       "25                          ABO GHANIMA HOME  \n",
       "37                            Pousada Pontes  \n",
       "51                             Hotel Xaguate  \n",
       "60                        Gostevoy Dom Vista  \n",
       "70                             Hotel kerdous  \n",
       "113  Super 8 by Wyndham Austin/Airport North  \n",
       "144                           Pousada Rodeio  \n",
       "149                                    Algys  \n",
       "201        KAYABI PALACE HOTEL E RESTAURANTE  \n",
       "241                Gostinitsa \"Aleksandriya\"  \n",
       "242                  Sheraton Asuncion Hotel  \n",
       "268                              Serpa Hotel  \n",
       "417                             Voyage Hotel  \n",
       "536                        Rohail hotel Zhob  "
      ]
     },
     "execution_count": 128,
     "metadata": {},
     "output_type": "execute_result"
    }
   ],
   "source": [
    "hotel_df"
   ]
  },
  {
   "cell_type": "code",
   "execution_count": 129,
   "metadata": {},
   "outputs": [],
   "source": [
    "# NOTE: Do not change any of the code in this cell\n",
    "\n",
    "# Using the template add the hotel marks to the heatmap\n",
    "info_box_template = \"\"\"\n",
    "<dl>\n",
    "<dt>Name</dt><dd>{Hotel Name}</dd>\n",
    "<dt>City</dt><dd>{City}</dd>\n",
    "<dt>Country</dt><dd>{Country}</dd>\n",
    "</dl>\n",
    "\"\"\"\n",
    "# Store the DataFrame Row\n",
    "# NOTE: be sure to update with your DataFrame name\n",
    "hotel_info = [info_box_template.format(**row) for index, row in hotel_df.iterrows()]\n",
    "locations = hotel_df[[\"Lat\", \"Lng\"]]"
   ]
  },
  {
   "cell_type": "code",
   "execution_count": 143,
   "metadata": {
    "scrolled": true
   },
   "outputs": [
    {
     "data": {
      "application/vnd.jupyter.widget-view+json": {
       "model_id": "99d7b7c9457448ff86eac8095041158a",
       "version_major": 2,
       "version_minor": 0
      },
      "text/plain": [
       "Figure(layout=FigureLayout(border='1px solid black', height='1000px', margin='0', padding='0px', width='1000px…"
      ]
     },
     "metadata": {},
     "output_type": "display_data"
    }
   ],
   "source": [
    "# Add marker layer ontop of heat map\n",
    "marker_layer = gmaps.marker_layer(locations, hover_text='', label='', info_box_content=hotel_info, display_info_box=True)\n",
    "Map.add_layer(marker_layer)\n",
    "\n",
    "#Save as html\n",
    "from ipywidgets.embed import embed_minimal_html\n",
    "embed_minimal_html('hotelmap.html', views=[Map], title='hotelmap')\n",
    "# Display figure\n",
    "Map"
   ]
  }
 ],
 "metadata": {
  "kernelspec": {
   "display_name": "Python 3",
   "language": "python",
   "name": "python3"
  },
  "language_info": {
   "codemirror_mode": {
    "name": "ipython",
    "version": 3
   },
   "file_extension": ".py",
   "mimetype": "text/x-python",
   "name": "python",
   "nbconvert_exporter": "python",
   "pygments_lexer": "ipython3",
   "version": "3.8.1"
  },
  "latex_envs": {
   "LaTeX_envs_menu_present": true,
   "autoclose": false,
   "autocomplete": true,
   "bibliofile": "biblio.bib",
   "cite_by": "apalike",
   "current_citInitial": 1,
   "eqLabelWithNumbers": true,
   "eqNumInitial": 1,
   "hotkeys": {
    "equation": "Ctrl-E",
    "itemize": "Ctrl-I"
   },
   "labels_anchors": false,
   "latex_user_defs": false,
   "report_style_numbering": false,
   "user_envs_cfg": false
  }
 },
 "nbformat": 4,
 "nbformat_minor": 2
}
